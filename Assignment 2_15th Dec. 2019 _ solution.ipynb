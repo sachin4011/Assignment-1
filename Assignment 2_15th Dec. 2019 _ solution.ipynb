{
 "cells": [
  {
   "cell_type": "markdown",
   "metadata": {},
   "source": [
    "Task 1\n",
    "\n",
    "1.1 Write a Python Program to implement your own myreduce() function which works exactly like Python's built-in function reduce()"
   ]
  },
  {
   "cell_type": "code",
   "execution_count": null,
   "metadata": {},
   "outputs": [],
   "source": [
    "lst = [1,2,3,4]\n",
    "def myreduce(a,b,c)\n",
    "sum1 = 0\n",
    "\n",
    "for i in lst:\n",
    "    sum1 = sum1 + i\n",
    "    \n",
    "print(\"final sum is \",sum1)\n",
    "   \n",
    "         \n"
   ]
  },
  {
   "cell_type": "markdown",
   "metadata": {},
   "source": [
    "Implement List comprehensions to produce the following lists. \n",
    " \n",
    "Write List comprehensions to produce the following Lists \n",
    " \n",
    "['A', 'C', 'A', 'D', 'G', 'I', ’L’, ‘ D’] \n",
    " \n",
    "['x', 'xx', 'xxx', 'xxxx', 'y', 'yy', 'yyy', 'yyyy', 'z', 'zz', 'zzz', 'zzzz'] \n",
    " \n",
    "['x', 'y', 'z', 'xx', 'yy', 'zz', 'xx', 'yy', 'zz', 'xxxx', 'yyyy', 'zzzz']\n",
    "\n",
    "[[2], [3], [4], [3], [4], [5], [4], [5], [6]] \n",
    " \n",
    "[[2, 3, 4, 5], [3, 4, 5, 6], [4, 5, 6, 7], [5, 6, 7, 8]] \n",
    " \n",
    "[(1, 1), (2, 1), (3, 1), (1, 2), (2, 2), (3, 2), (1, 3), (2, 3), (3, 3)]"
   ]
  },
  {
   "cell_type": "code",
   "execution_count": 15,
   "metadata": {},
   "outputs": [
    {
     "data": {
      "text/plain": [
       "['A', 'C', 'A', 'D', 'G', 'I', 'L', 'D']"
      ]
     },
     "execution_count": 15,
     "metadata": {},
     "output_type": "execute_result"
    }
   ],
   "source": [
    "lst1 = []\n",
    "lst1.append('A')\n",
    "lst1.append('C')\n",
    "lst1.append('A')\n",
    "lst1.append('D')\n",
    "lst1.append('G')\n",
    "lst1.append('I')\n",
    "lst1.append('L')\n",
    "lst1.append('D')\n",
    "lst1"
   ]
  },
  {
   "cell_type": "code",
   "execution_count": 14,
   "metadata": {},
   "outputs": [
    {
     "data": {
      "text/plain": [
       "['x', 'xx', 'xxx', 'xxxx', 'y', 'yy', 'yyy', 'yyyy', 'z', 'zz', 'zzz', 'zzzz']"
      ]
     },
     "execution_count": 14,
     "metadata": {},
     "output_type": "execute_result"
    }
   ],
   "source": [
    "list2 = []\n",
    "list2.append('x')\n",
    "list2.append('x'*2)\n",
    "list2.append('x'*3)\n",
    "list2.append('x'*4)\n",
    "list2.append('y')\n",
    "list2.append('y'*2)\n",
    "list2.append('y'*3)\n",
    "list2.append('y'*4)\n",
    "list2.append('z')\n",
    "list2.append('z'*2)\n",
    "list2.append('z'*3)\n",
    "list2.append('z'*4)\n",
    "\n",
    "\n",
    "list2"
   ]
  },
  {
   "cell_type": "code",
   "execution_count": 13,
   "metadata": {},
   "outputs": [
    {
     "data": {
      "text/plain": [
       "['x', 'y', 'z', 'xx', 'yy', 'zz', 'xxxx', 'yyyy', 'zzzz']"
      ]
     },
     "execution_count": 13,
     "metadata": {},
     "output_type": "execute_result"
    }
   ],
   "source": [
    "list3 = []\n",
    "list3.append('x')\n",
    "list3.append('y')\n",
    "list3.append('z')\n",
    "list3.append('x'*2)\n",
    "list3.append('y'*2)\n",
    "list3.append('z'*2)\n",
    "list3.append('x'*4)\n",
    "list3.append('y'*4)\n",
    "list3.append('z'*4)\n",
    "list3"
   ]
  },
  {
   "cell_type": "code",
   "execution_count": 35,
   "metadata": {},
   "outputs": [
    {
     "data": {
      "text/plain": [
       "[[2], [3], [4], [3], [4], [5], [4], [5]]"
      ]
     },
     "execution_count": 35,
     "metadata": {},
     "output_type": "execute_result"
    }
   ],
   "source": [
    "list4 = []\n",
    "list6 = []\n",
    "list7 = []\n",
    "list8 = []\n",
    "list9 = []\n",
    "list11= []\n",
    "list13= []\n",
    "list15= []\n",
    "list10 = []\n",
    "list4.append(2)\n",
    "list6.append(3)\n",
    "list7.append(4)\n",
    "list8.append(3)\n",
    "list9.append(4)\n",
    "list10.append(5)\n",
    "list11.append(4)\n",
    "list13.append(5)\n",
    "list15.append(6)\n",
    "list4\n",
    "list5 = [list4,list6,list7,list8,list9,list10,list11,list13]\n",
    "list5"
   ]
  },
  {
   "cell_type": "code",
   "execution_count": 46,
   "metadata": {},
   "outputs": [],
   "source": [
    "dist = {'k1' : 'sachin','k2' : 'saaac'}\n",
    "mydist = dist.keys"
   ]
  },
  {
   "cell_type": "markdown",
   "metadata": {},
   "source": [
    "3 Implement a function longestWord() that takes a list of words and returns the longest one. "
   ]
  },
  {
   "cell_type": "code",
   "execution_count": null,
   "metadata": {},
   "outputs": [],
   "source": [
    "a= ['saurngrijfcsd','ksdafjdskfjs','saccchj','djaskldaklfjsalkjf','ashfhjfhdskjfhsdkhdgjkhfdgdfn']\n",
    "\n",
    "def longestword(a):\n",
    "    maxstr = a[0]\n",
    "    i = 1\n",
    "while i <=len(a)-1:\n",
    "    \n",
    "    if len(a[0]) <= len(a[i]):\n",
    "        maxstr = a[i]\n",
    "        \n",
    "    i = i+1\n",
    "    \n",
    "print (maxstr)\n",
    "\n",
    "\n",
    "\n",
    "longestword(a)"
   ]
  },
  {
   "cell_type": "markdown",
   "metadata": {},
   "source": [
    "1.1\n",
    "\n",
    "Write a Python Program(with class concepts) to find the area of the triangle using the below formula. \n",
    " \n",
    "area = (s*(s-a)*(s-b)*(s-c)) ** 0.5 \n",
    " \n",
    "Function to take the length of the sides of triangle from user should be defined in the parent class and function to calculate the area should be defined in subclass. "
   ]
  },
  {
   "cell_type": "code",
   "execution_count": 2,
   "metadata": {},
   "outputs": [],
   "source": [
    "class trisides1():\n",
    "    side = 0\n",
    "    def __init__(self,sideA,sideB,sideC):\n",
    "        self.sideA = sideA\n",
    "        self.sideB = sideB\n",
    "        self.sideC = sideC\n",
    "        \n",
    "    def caltriside(self):\n",
    "        self.side = (self.sideA + self.sideB + self.sideC)/2\n",
    "        print (self.side)\n",
    "       "
   ]
  },
  {
   "cell_type": "code",
   "execution_count": 3,
   "metadata": {},
   "outputs": [],
   "source": [
    "class triarea(trisides1):\n",
    "    area1 = 0\n",
    "    def _init__(self,sideA,sideB,sideC):\n",
    "        super().__init__(self,sideA,sideB,sideC)\n",
    "       \n",
    "        \n",
    "    def calarea(self):\n",
    "        self.area1 = (self.side*(self.sideA)*(self.sideB)*(self.sideC))**0.5\n",
    "        print(self.area1)"
   ]
  },
  {
   "cell_type": "code",
   "execution_count": 4,
   "metadata": {},
   "outputs": [
    {
     "name": "stdout",
     "output_type": "stream",
     "text": [
      "4.5\n"
     ]
    }
   ],
   "source": [
    "tria= trisides1(sideA = 2,sideB = 3,sideC = 4)\n",
    "tria.caltriside()\n",
    "#tria.calarea()\n",
    "\n"
   ]
  },
  {
   "cell_type": "markdown",
   "metadata": {},
   "source": [
    "2.1 Write a Python program using function concept that maps  list of words into a list of integers representing the lengths of the corresponding words​. "
   ]
  },
  {
   "cell_type": "code",
   "execution_count": 1,
   "metadata": {},
   "outputs": [
    {
     "name": "stdout",
     "output_type": "stream",
     "text": [
      "[3, 3, 10]\n"
     ]
    }
   ],
   "source": [
    "def mystrlen(str1):\n",
    "    lst  = []\n",
    "    for i in str1:\n",
    "        len1 = len(i)\n",
    "        lst.append (len1)\n",
    "    print(lst)\n",
    "\n",
    "\n",
    "\n",
    "\n",
    "\n",
    "\n",
    "lst1 =['abc','cde','gfgfgfrfrf']\n",
    "\n",
    "mystrlen(lst1)\n"
   ]
  },
  {
   "cell_type": "markdown",
   "metadata": {},
   "source": [
    "1.2 Write a function filter_long_words() that takes a list of words and an integer n and returns the list of words that are longer than n. "
   ]
  },
  {
   "cell_type": "code",
   "execution_count": null,
   "metadata": {},
   "outputs": [],
   "source": [
    "\n",
    "\n",
    "lst = ['sac', 'sachin', 'sachidjfdkfdj','sa','sachin']\n",
    "n = 4\n",
    "#print(len(lst))\n",
    "\n",
    "def filter_long_word(lst,n):\n",
    "    i = 0 \n",
    "    while i<len(lst):\n",
    "         if len(lst[i])>=n:\n",
    "                c = lst[i]\n",
    "                print (c)\n",
    "           \n",
    "    \n",
    "    i =i+1\n",
    "\n",
    "    \n",
    "    \n",
    "filter_long_word(lst,n)"
   ]
  },
  {
   "cell_type": "markdown",
   "metadata": {},
   "source": [
    " 2.2 Write a Python function which takes a character (i.e. a string of length 1) and returns True if it is a vowel, False otherwise. "
   ]
  },
  {
   "cell_type": "code",
   "execution_count": 4,
   "metadata": {},
   "outputs": [
    {
     "name": "stdout",
     "output_type": "stream",
     "text": [
      "False\n"
     ]
    }
   ],
   "source": [
    "vow123 = ['a','e','i','o','u']\n",
    "def vow(z):\n",
    " #i = [\" \"]\n",
    " for i in vow123[0::]:\n",
    "    if i == z:\n",
    "      return True\n",
    "    else:\n",
    "      return False\n",
    "\n",
    "\n",
    "print(vow('z'))\n"
   ]
  }
 ],
 "metadata": {
  "kernelspec": {
   "display_name": "Python 3",
   "language": "python",
   "name": "python3"
  },
  "language_info": {
   "codemirror_mode": {
    "name": "ipython",
    "version": 3
   },
   "file_extension": ".py",
   "mimetype": "text/x-python",
   "name": "python",
   "nbconvert_exporter": "python",
   "pygments_lexer": "ipython3",
   "version": "3.7.4"
  }
 },
 "nbformat": 4,
 "nbformat_minor": 2
}
